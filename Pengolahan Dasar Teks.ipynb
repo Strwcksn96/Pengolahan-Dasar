{
 "cells": [
  {
   "attachments": {},
   "cell_type": "markdown",
   "metadata": {},
   "source": [
    "Nama: Satria Wicaksana\n",
    "NIM: G6501222047"
   ]
  },
  {
   "cell_type": "code",
   "execution_count": 1,
   "metadata": {},
   "outputs": [],
   "source": [
    "import re\n",
    "import string\n",
    "import nltk\n",
    "from nltk.tokenize import word_tokenize \n",
    "from nltk.tokenize import word_tokenize\n",
    "from nltk.probability import FreqDist\n",
    "import matplotlib.pyplot as plt\n",
    "from nltk.stem import PorterStemmer\n",
    "from nltk.probability import FreqDist\n",
    "\n",
    "\n",
    "\n",
    "kalimat = \"Kata ini  mengandung 20 kata {dengan} tanda baca ?? dan !! DimAnA, BebErapa huruf tidak. beraturan Dan menjadi, berantakan\""
   ]
  },
  {
   "cell_type": "code",
   "execution_count": 37,
   "metadata": {},
   "outputs": [
    {
     "name": "stdout",
     "output_type": "stream",
     "text": [
      "kata ini  mengandung 20 kata {dengan} tanda baca ?? dan !! dimana, beberapa huruf tidak. beraturan dan menjadi, berantakan\n"
     ]
    }
   ],
   "source": [
    "lower_case = kalimat.lower()\n",
    "print(lower_case)"
   ]
  },
  {
   "cell_type": "code",
   "execution_count": 38,
   "metadata": {},
   "outputs": [
    {
     "name": "stdout",
     "output_type": "stream",
     "text": [
      "Kata ini  mengandung  kata {dengan} tanda baca ?? dan !! DimAnA, BebErapa huruf tidak. beraturan Dan menjadi, berantakan\n"
     ]
    }
   ],
   "source": [
    "import re \n",
    "hasil = re.sub(r\"\\d+\", \"\", kalimat)\n",
    "print(hasil)"
   ]
  },
  {
   "cell_type": "code",
   "execution_count": 29,
   "metadata": {},
   "outputs": [
    {
     "name": "stdout",
     "output_type": "stream",
     "text": [
      "Kata ini  mengandung 20 kata dengan tanda baca  dan  DimAnA BebErapa huruf tidak beraturan Dan menjadi berantakan\n"
     ]
    }
   ],
   "source": [
    "import string\n",
    "hasil = kalimat.translate(str.maketrans(\"\",\"\",string.punctuation))\n",
    "print(hasil)"
   ]
  },
  {
   "cell_type": "code",
   "execution_count": 39,
   "metadata": {},
   "outputs": [
    {
     "name": "stdout",
     "output_type": "stream",
     "text": [
      "['Kata', 'ini', 'mengandung', '20', 'kata', '{dengan}', 'tanda', 'baca', '??', 'dan', '!!', 'DimAnA,', 'BebErapa', 'huruf', 'tidak.', 'beraturan', 'Dan', 'menjadi,', 'berantakan']\n"
     ]
    }
   ],
   "source": [
    "pisah = kalimat.split()\n",
    "print(pisah)"
   ]
  },
  {
   "cell_type": "code",
   "execution_count": 40,
   "metadata": {},
   "outputs": [
    {
     "name": "stdout",
     "output_type": "stream",
     "text": [
      "['Kata', 'ini', 'mengandung', '20', 'kata', '{', 'dengan', '}', 'tanda', 'baca', '?', '?', 'dan', '!', '!', 'DimAnA', ',', 'BebErapa', 'huruf', 'tidak', '.', 'beraturan', 'Dan', 'menjadi', ',', 'berantakan']\n"
     ]
    }
   ],
   "source": [
    "import nltk\n",
    "from nltk.tokenize import word_tokenize \n",
    " \n",
    " \n",
    "tokens = nltk.word_tokenize(kalimat)\n",
    "print(tokens)"
   ]
  },
  {
   "cell_type": "code",
   "execution_count": 41,
   "metadata": {},
   "outputs": [
    {
     "name": "stdout",
     "output_type": "stream",
     "text": [
      "[('kata', 2), ('dan', 2), ('ini', 1), ('mengandung', 1), ('20', 1), ('dengan', 1), ('tanda', 1), ('baca', 1), ('dimana', 1), ('beberapa', 1), ('huruf', 1), ('tidak', 1), ('beraturan', 1), ('menjadi', 1), ('berantakan', 1)]\n"
     ]
    }
   ],
   "source": [
    "from nltk.tokenize import word_tokenize\n",
    "from nltk.probability import FreqDist\n",
    "kalimat = kalimat.translate(str.maketrans('','',string.punctuation)).lower()\n",
    " \n",
    "tokens = nltk.tokenize.word_tokenize(kalimat)\n",
    "kemunculan = nltk.FreqDist(tokens)\n",
    "print(kemunculan.most_common())"
   ]
  },
  {
   "cell_type": "code",
   "execution_count": 42,
   "metadata": {},
   "outputs": [
    {
     "data": {
      "image/png": "[encoded data removed]",
      "text/plain": [
       "<Figure size 432x288 with 1 Axes>"
      ]
     },
     "metadata": {
      "needs_background": "light"
     },
     "output_type": "display_data"
    }
   ],
   "source": [
    "import matplotlib.pyplot as plt\n",
    "kemunculan.plot(30,cumulative=False)\n",
    "plt.show()"
   ]
  },
  {
   "cell_type": "code",
   "execution_count": 43,
   "metadata": {},
   "outputs": [
    {
     "name": "stdout",
     "output_type": "stream",
     "text": [
      "['kata ini  mengandung 20 kata dengan tanda baca  dan  dimana beberapa huruf tidak beraturan dan menjadi berantakan']\n"
     ]
    }
   ],
   "source": [
    "from nltk.tokenize import sent_tokenize\n",
    " \n",
    "tokens = nltk.tokenize.sent_tokenize(kalimat)\n",
    "print(tokens)\n",
    "# ouput"
   ]
  },
  {
   "cell_type": "code",
   "execution_count": 44,
   "metadata": {},
   "outputs": [
    {
     "name": "stdout",
     "output_type": "stream",
     "text": [
      "['mengandung', '20', 'tanda', 'baca', 'dimana', 'huruf', 'beraturan', 'berantakan']\n"
     ]
    }
   ],
   "source": [
    "from nltk.tokenize import sent_tokenize, word_tokenize\n",
    "from nltk.corpus import stopwords\n",
    " \n",
    "kalimat = kalimat.translate(str.maketrans('','',string.punctuation)).lower()\n",
    " \n",
    "tokens = word_tokenize(kalimat)\n",
    "listStopword =  set(stopwords.words('indonesian'))\n",
    " \n",
    "removed = []\n",
    "for t in tokens:\n",
    "    if t not in listStopword:\n",
    "        removed.append(t)\n",
    " \n",
    "print(removed)"
   ]
  },
  {
   "cell_type": "code",
   "execution_count": 45,
   "metadata": {},
   "outputs": [
    {
     "name": "stdout",
     "output_type": "stream",
     "text": [
      "program  :  program\n",
      "programs  :  program\n",
      "programer  :  program\n",
      "programing  :  program\n",
      "programers  :  program\n"
     ]
    }
   ],
   "source": [
    "from nltk.stem import PorterStemmer \n",
    "   \n",
    "ps = PorterStemmer() \n",
    "  \n",
    "kata = [\"program\", \"programs\", \"programer\", \"programing\", \"programers\"] \n",
    "  \n",
    "for k in kata: \n",
    "    print(k, \" : \", ps.stem(k))"
   ]
  }
 ],
 "metadata": {
  "kernelspec": {
   "display_name": "Python 3",
   "language": "python",
   "name": "python3"
  },
  "language_info": {
   "codemirror_mode": {
    "name": "ipython",
    "version": 3
   },
   "file_extension": ".py",
   "mimetype": "text/x-python",
   "name": "python",
   "nbconvert_exporter": "python",
   "pygments_lexer": "ipython3",
   "version": "3.10.2"
  },
  "orig_nbformat": 4,
  "vscode": {
   "interpreter": {
    "hash": "6b8c183c497b320452bdc2c2d2ce559e7f76ea1ece856bc8671ef991ee7e8bbe"
   }
  }
 },
 "nbformat": 4,
 "nbformat_minor": 2
}
